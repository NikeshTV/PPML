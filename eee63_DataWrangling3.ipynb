{
 "cells": [
  {
   "cell_type": "code",
   "execution_count": 2,
   "id": "69a081d2",
   "metadata": {},
   "outputs": [
    {
     "name": "stdout",
     "output_type": "stream",
     "text": [
      "      Brand  Year  Sold\n",
      "0    Maruti  2010     6\n",
      "1   Hyundai  2011     7\n",
      "2  Mahindra  2010     8\n",
      "3      Ford  2013     9\n"
     ]
    }
   ],
   "source": [
    "import pandas as pd\n",
    "car_selling = {'Brand': ['Maruti', 'Hyundai', 'Mahindra', 'Ford'], 'Year': [2010,2011,2010,2013], 'Sold': [6,7,8,9]}\n",
    "df = pd.DataFrame(car_selling)\n",
    "print(df)"
   ]
  },
  {
   "cell_type": "code",
   "execution_count": 4,
   "id": "9da90ac5",
   "metadata": {},
   "outputs": [
    {
     "name": "stdout",
     "output_type": "stream",
     "text": [
      "      Brand  Year  Sold\n",
      "0    Maruti  2010     6\n",
      "2  Mahindra  2010     8\n"
     ]
    }
   ],
   "source": [
    "grouped = df.groupby('Year')\n",
    "print(grouped.get_group(2010))"
   ]
  },
  {
   "cell_type": "code",
   "execution_count": 15,
   "id": "7792e34a",
   "metadata": {},
   "outputs": [
    {
     "name": "stdout",
     "output_type": "stream",
     "text": [
      "      Name  Roll_no            Email\n",
      "0     Amit       23  xxxx@gmail.com \n",
      "1  Praveen       54     Soxgmail.com\n",
      "2  Sathish       29     50@gmail.com\n",
      "3  Praveen       12    wox@gmail.com\n"
     ]
    }
   ],
   "source": [
    "student_data = {'Name': ['Amit', 'Praveen','Sathish' , 'Praveen'], 'Roll_no' : [23,54, 29,\n",
    "12], 'Email': ['xxxx@gmail.com ','Soxgmail.com','50@gmail.com', 'wox@gmail.com']\n",
    "          }\n",
    "df = pd.DataFrame(student_data)\n",
    "print(df)\n",
    "          \n",
    "          \n",
    "          "
   ]
  },
  {
   "cell_type": "code",
   "execution_count": 17,
   "id": "a0e32b02",
   "metadata": {},
   "outputs": [
    {
     "name": "stdout",
     "output_type": "stream",
     "text": [
      "      Name  Roll_no            Email\n",
      "0     Amit       23  xxxx@gmail.com \n",
      "1  Praveen       54     Soxgmail.com\n",
      "2  Sathish       29     50@gmail.com\n",
      "3  Praveen       12    wox@gmail.com\n"
     ]
    }
   ],
   "source": [
    " non_duplicate = df[~df.duplicated('Roll_no')]\n",
    " print(non_duplicate)"
   ]
  },
  {
   "cell_type": "code",
   "execution_count": 18,
   "id": "afc44cc1",
   "metadata": {},
   "outputs": [
    {
     "name": "stdout",
     "output_type": "stream",
     "text": [
      "    ID     NAME Branch\n",
      "0  101     Arun   Mech\n",
      "1  102  Praveen    EEE\n",
      "2  103   Harish    CSE\n",
      "3  104    Pooja     IT\n"
     ]
    }
   ],
   "source": [
    "details = pd.DataFrame({'ID': [101,102,103,104],'NAME': ['Arun', 'Praveen', 'Harish', 'Pooja'], 'Branch': ['Mech', 'EEE', 'CSE', 'IT']})\n",
    "print(details)"
   ]
  },
  {
   "cell_type": "code",
   "execution_count": 19,
   "id": "226adb5d",
   "metadata": {},
   "outputs": [
    {
     "name": "stdout",
     "output_type": "stream",
     "text": [
      "    ID PENDING\n",
      "0  101    5000\n",
      "1  102     250\n",
      "2  103     NIL\n",
      "3  104    1800\n"
     ]
    }
   ],
   "source": [
    "fees_status = pd.DataFrame({'ID': [101,102,103,104],'PENDING': ['5000','250','NIL','1800']})\n",
    "print(fees_status)"
   ]
  },
  {
   "cell_type": "code",
   "execution_count": 20,
   "id": "aefde22f",
   "metadata": {},
   "outputs": [
    {
     "name": "stdout",
     "output_type": "stream",
     "text": [
      "    ID     NAME Branch PENDING\n",
      "0  101     Arun   Mech    5000\n",
      "1  102  Praveen    EEE     250\n",
      "2  103   Harish    CSE     NIL\n",
      "3  104    Pooja     IT    1800\n"
     ]
    }
   ],
   "source": [
    "print(pd.merge(details,fees_status, on = \"ID\"))"
   ]
  },
  {
   "cell_type": "code",
   "execution_count": null,
   "id": "95080b7d",
   "metadata": {},
   "outputs": [],
   "source": []
  }
 ],
 "metadata": {
  "kernelspec": {
   "display_name": "Python 3 (ipykernel)",
   "language": "python",
   "name": "python3"
  },
  "language_info": {
   "codemirror_mode": {
    "name": "ipython",
    "version": 3
   },
   "file_extension": ".py",
   "mimetype": "text/x-python",
   "name": "python",
   "nbconvert_exporter": "python",
   "pygments_lexer": "ipython3",
   "version": "3.9.12"
  }
 },
 "nbformat": 4,
 "nbformat_minor": 5
}
