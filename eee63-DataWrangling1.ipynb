{
 "cells": [
  {
   "cell_type": "code",
   "execution_count": 2,
   "id": "6c12c636",
   "metadata": {},
   "outputs": [
    {
     "name": "stdout",
     "output_type": "stream",
     "text": [
      "    name  age\n",
      "0  Sally   50\n",
      "1   Mary   40\n",
      "2   John   30\n",
      "  qualified\n",
      "0      True\n",
      "1     False\n",
      "2      True\n",
      "    name  age qualified\n",
      "0  Sally   50      True\n",
      "1   Mary   40     False\n",
      "2   John   30      True\n"
     ]
    }
   ],
   "source": [
    "import pandas as pd\n",
    "data1 ={\n",
    "    \"name\": [\"Sally\", \"Mary\", \"John\"],\n",
    "    \"age\" : [50, 40, 30]\n",
    "}\n",
    "data2 = {\n",
    "    \"qualified\": [\"True\", \"False\", \"True\"]\n",
    "}\n",
    "\n",
    "df1 = pd.DataFrame(data1)\n",
    "print(df1)\n",
    "df2 = pd.DataFrame(data2)\n",
    "print(df2)\n",
    "newdf = df1.join(df2)\n",
    "print(newdf)"
   ]
  },
  {
   "cell_type": "code",
   "execution_count": 5,
   "id": "7e4606cc",
   "metadata": {},
   "outputs": [
    {
     "name": "stdout",
     "output_type": "stream",
     "text": [
      "   0  1\n",
      "0  5  6\n",
      "1  7  8\n",
      "  qualified\n",
      "0      True\n",
      "1     False\n",
      "2      True\n"
     ]
    },
    {
     "ename": "TypeError",
     "evalue": "'>' not supported between instances of 'int' and 'str'",
     "output_type": "error",
     "traceback": [
      "\u001b[1;31m---------------------------------------------------------------------------\u001b[0m",
      "\u001b[1;31mTypeError\u001b[0m                                 Traceback (most recent call last)",
      "Cell \u001b[1;32mIn[5], line 10\u001b[0m\n\u001b[0;32m      8\u001b[0m \u001b[38;5;28mprint\u001b[39m(df1)\n\u001b[0;32m      9\u001b[0m \u001b[38;5;28mprint\u001b[39m(df2)\n\u001b[1;32m---> 10\u001b[0m \u001b[38;5;28mprint\u001b[39m(df1\u001b[38;5;241m.\u001b[39mcombine(df2,myfunc))\n",
      "File \u001b[1;32mC:\\ProgramData\\anaconda3\\Lib\\site-packages\\pandas\\core\\frame.py:7884\u001b[0m, in \u001b[0;36mDataFrame.combine\u001b[1;34m(self, other, func, fill_value, overwrite)\u001b[0m\n\u001b[0;32m   7881\u001b[0m     series \u001b[38;5;241m=\u001b[39m series\u001b[38;5;241m.\u001b[39mastype(new_dtype, copy\u001b[38;5;241m=\u001b[39m\u001b[38;5;28;01mFalse\u001b[39;00m)\n\u001b[0;32m   7882\u001b[0m     other_series \u001b[38;5;241m=\u001b[39m other_series\u001b[38;5;241m.\u001b[39mastype(new_dtype, copy\u001b[38;5;241m=\u001b[39m\u001b[38;5;28;01mFalse\u001b[39;00m)\n\u001b[1;32m-> 7884\u001b[0m arr \u001b[38;5;241m=\u001b[39m func(series, other_series)\n\u001b[0;32m   7885\u001b[0m \u001b[38;5;28;01mif\u001b[39;00m \u001b[38;5;28misinstance\u001b[39m(new_dtype, np\u001b[38;5;241m.\u001b[39mdtype):\n\u001b[0;32m   7886\u001b[0m     \u001b[38;5;66;03m# if new_dtype is an EA Dtype, then `func` is expected to return\u001b[39;00m\n\u001b[0;32m   7887\u001b[0m     \u001b[38;5;66;03m# the correct dtype without any additional casting\u001b[39;00m\n\u001b[0;32m   7888\u001b[0m     \u001b[38;5;66;03m# error: No overload variant of \"maybe_downcast_to_dtype\" matches\u001b[39;00m\n\u001b[0;32m   7889\u001b[0m     \u001b[38;5;66;03m# argument types \"Union[Series, Hashable]\", \"dtype[Any]\"\u001b[39;00m\n\u001b[0;32m   7890\u001b[0m     arr \u001b[38;5;241m=\u001b[39m maybe_downcast_to_dtype(  \u001b[38;5;66;03m# type: ignore[call-overload]\u001b[39;00m\n\u001b[0;32m   7891\u001b[0m         arr, new_dtype\n\u001b[0;32m   7892\u001b[0m     )\n",
      "Cell \u001b[1;32mIn[5], line 4\u001b[0m, in \u001b[0;36mmyfunc\u001b[1;34m(a, b)\u001b[0m\n\u001b[0;32m      3\u001b[0m \u001b[38;5;28;01mdef\u001b[39;00m \u001b[38;5;21mmyfunc\u001b[39m(a,b):\n\u001b[1;32m----> 4\u001b[0m     \u001b[38;5;28;01mif\u001b[39;00m(a\u001b[38;5;241m.\u001b[39msum() \u001b[38;5;241m>\u001b[39m b\u001b[38;5;241m.\u001b[39msum()):\n\u001b[0;32m      5\u001b[0m         \u001b[38;5;28;01mreturn\u001b[39;00m a\n\u001b[0;32m      6\u001b[0m     \u001b[38;5;28;01melse\u001b[39;00m:\n",
      "\u001b[1;31mTypeError\u001b[0m: '>' not supported between instances of 'int' and 'str'"
     ]
    }
   ],
   "source": [
    "df1 = pd.DataFrame([[1,2],[3,4]])\n",
    "df1 = pd.DataFrame([[5,6],[7,8]])\n",
    "def myfunc(a,b):\n",
    "    if(a.sum() > b.sum()):\n",
    "        return a\n",
    "    else:\n",
    "        return b\n",
    "print(df1)\n",
    "print(df2)\n",
    "print(df1.combine(df2,myfunc))"
   ]
  },
  {
   "cell_type": "code",
   "execution_count": 6,
   "id": "c229e9e7",
   "metadata": {},
   "outputs": [
    {
     "name": "stdout",
     "output_type": "stream",
     "text": [
      "    name  age\n",
      "0  Sally   50\n",
      "1   Mary   40\n",
      "2   John   30\n",
      "    name  age\n",
      "0  Sally   77\n",
      "1  Peter   44\n",
      "2  Micky   22\n",
      "    name  age\n",
      "0  Sally   77\n",
      "1  Peter   44\n",
      "2  Micky   22\n"
     ]
    }
   ],
   "source": [
    "data1 ={\n",
    "    \"name\": [\"Sally\", \"Mary\", \"John\"],\n",
    "    \"age\" : [50, 40, 30]\n",
    "}\n",
    "data2 ={\n",
    "    \"name\": [\"Sally\", \"Peter\", \"Micky\"],\n",
    "    \"age\" : [77,44,22]\n",
    "}\n",
    "df1 = pd.DataFrame(data1)\n",
    "print(df1)\n",
    "df2 = pd.DataFrame(data2)\n",
    "print(df2)\n",
    "newdf = df1.merge(df2, how = 'right')\n",
    "print(newdf)"
   ]
  },
  {
   "cell_type": "code",
   "execution_count": null,
   "id": "51c7b130",
   "metadata": {},
   "outputs": [
    {
     "name": "stdout",
     "output_type": "stream",
     "text": [
      "  team  points assists  rebounds\n",
      "0    A      88      12        22\n",
      "1    B      91      17        28\n",
      "2    C      99      24        30\n",
      "3    D      94      28        31\n",
      "   team  variable value\n",
      "0     A    points    88\n",
      "1     B    points    91\n",
      "2     C    points    99\n",
      "3     D    points    94\n",
      "4     A   assists    12\n",
      "5     B   assists    17\n",
      "6     C   assists    24\n",
      "7     D   assists    28\n",
      "8     A  rebounds    22\n",
      "9     B  rebounds    28\n",
      "10    C  rebounds    30\n",
      "11    D  rebounds    31\n"
     ]
    }
   ],
   "source": [
    "df  = pd.DataFrame({'team': ['A','B','C','D'],\n",
    "                   'points': [88,91,99,94],\n",
    "                   'assists':['12','17','24','28'],\n",
    "                    'rebounds': [22,28,30,31]\n",
    "                   })\n",
    "\n",
    "print(df)\n",
    "df = pd.melt(df,id_vars='team', value_vars=['points','assists','rebounds'])\n",
    "print(df)"
   ]
  },
  {
   "cell_type": "code",
   "execution_count": null,
   "id": "b156ce13",
   "metadata": {},
   "outputs": [],
   "source": []
  }
 ],
 "metadata": {
  "kernelspec": {
   "display_name": "Python 3 (ipykernel)",
   "language": "python",
   "name": "python3"
  },
  "language_info": {
   "codemirror_mode": {
    "name": "ipython",
    "version": 3
   },
   "file_extension": ".py",
   "mimetype": "text/x-python",
   "name": "python",
   "nbconvert_exporter": "python",
   "pygments_lexer": "ipython3",
   "version": "3.11.5"
  }
 },
 "nbformat": 4,
 "nbformat_minor": 5
}
