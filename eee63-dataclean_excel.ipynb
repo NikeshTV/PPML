{
 "cells": [
  {
   "cell_type": "markdown",
   "id": "84a9ac1e",
   "metadata": {},
   "source": [
    "##### import pandas as pd\n",
    "import numpy as np\n",
    "df = pd.DataFrame(np.random.randn(5,3), index = ['a', 'c', 'e', 'f', 'h'], columns = ['one','two','three'])\n",
    "df = df.reindex(['a','b','c','d','e','f','g','h'])\n",
    "print(df)"
   ]
  },
  {
   "cell_type": "code",
   "execution_count": 2,
   "id": "d449300f",
   "metadata": {},
   "outputs": [
    {
     "name": "stdout",
     "output_type": "stream",
     "text": [
      "        one       two     three\n",
      "a  0.080271  1.809232 -0.825490\n",
      "c -0.292493  0.875227 -2.557621\n",
      "e  0.469763 -0.432757 -0.007873\n",
      "f -0.101368  0.053031 -0.930539\n",
      "h -1.192228  1.197039  0.400287\n"
     ]
    }
   ],
   "source": [
    "print(df.dropna())"
   ]
  },
  {
   "cell_type": "code",
   "execution_count": 3,
   "id": "c8eaa4af",
   "metadata": {},
   "outputs": [
    {
     "name": "stdout",
     "output_type": "stream",
     "text": [
      "        one       two     three\n",
      "a -1.063985  0.401886  0.184948\n",
      "b       NaN       NaN       NaN\n",
      "c -0.128321  1.119843 -0.574142\n"
     ]
    }
   ],
   "source": [
    "df = pd.DataFrame(np.random.randn(3,3), index= ['a','c','e'], columns = ['one', 'two', 'three'])\n",
    "df = df.reindex(['a','b','c'])\n",
    "print(df)"
   ]
  },
  {
   "cell_type": "code",
   "execution_count": 4,
   "id": "198e97b7",
   "metadata": {},
   "outputs": [
    {
     "name": "stdout",
     "output_type": "stream",
     "text": [
      "        one       two     three\n",
      "a -1.063985  0.401886  0.184948\n",
      "b  0.000000  0.000000  0.000000\n",
      "c -0.128321  1.119843 -0.574142\n"
     ]
    }
   ],
   "source": [
    "print(df.fillna(0))"
   ]
  },
  {
   "cell_type": "code",
   "execution_count": 6,
   "id": "4131a2b0",
   "metadata": {},
   "outputs": [
    {
     "name": "stdout",
     "output_type": "stream",
     "text": [
      "   one  two\n",
      "0   10   10\n",
      "1   20  100\n",
      "2   30   30\n",
      "3  400  400\n",
      "4   50   50\n",
      "5   60   60\n"
     ]
    }
   ],
   "source": [
    "df = pd.DataFrame({'one': [10,20,30,40,50,2000], 'two': [1000,0,30,40,50,60]})\n",
    "print(df.replace({1000:10,2000:60,40:400,0:100}))"
   ]
  },
  {
   "cell_type": "code",
   "execution_count": 7,
   "id": "02644513",
   "metadata": {},
   "outputs": [
    {
     "name": "stdout",
     "output_type": "stream",
     "text": [
      "        one       two     three\n",
      "a -0.439240 -1.872332 -1.034166\n",
      "b       NaN       NaN       NaN\n",
      "c -0.695786  0.515629 -0.514438\n",
      "d       NaN       NaN       NaN\n",
      "e  1.264459  0.320055  0.145399\n",
      "f -0.340152 -0.461656  0.161417\n",
      "g       NaN       NaN       NaN\n",
      "h -2.503510 -2.230735  0.129227\n",
      "a    False\n",
      "b     True\n",
      "c    False\n",
      "d     True\n",
      "e    False\n",
      "f    False\n",
      "g     True\n",
      "h    False\n",
      "Name: one, dtype: bool\n"
     ]
    }
   ],
   "source": [
    "df = pd.DataFrame(np.random.randn(5,3), index = ['a', 'c', 'e', 'f', 'h'], columns = ['one','two','three'])\n",
    "df = df.reindex(['a','b','c','d','e','f','g','h'])\n",
    "print(df)\n",
    "\n",
    "print(df['one'].isnull())"
   ]
  },
  {
   "cell_type": "code",
   "execution_count": 8,
   "id": "23622c2c",
   "metadata": {},
   "outputs": [
    {
     "name": "stdout",
     "output_type": "stream",
     "text": [
      "        one       two     three\n",
      "a -0.439240 -1.872332 -1.034166\n",
      "b -0.439240 -1.872332 -1.034166\n",
      "c -0.695786  0.515629 -0.514438\n",
      "d -0.695786  0.515629 -0.514438\n",
      "e  1.264459  0.320055  0.145399\n",
      "f -0.340152 -0.461656  0.161417\n",
      "g -0.340152 -0.461656  0.161417\n",
      "h -2.503510 -2.230735  0.129227\n",
      "        one       two     three\n",
      "a -0.439240 -1.872332 -1.034166\n",
      "b -0.695786  0.515629 -0.514438\n",
      "c -0.695786  0.515629 -0.514438\n",
      "d  1.264459  0.320055  0.145399\n",
      "e  1.264459  0.320055  0.145399\n",
      "f -0.340152 -0.461656  0.161417\n",
      "g -2.503510 -2.230735  0.129227\n",
      "h -2.503510 -2.230735  0.129227\n"
     ]
    }
   ],
   "source": [
    "print(df.fillna(method='pad'))\n",
    "print(df.fillna(method='bfill'))"
   ]
  },
  {
   "cell_type": "code",
   "execution_count": null,
   "id": "1f86ca3e",
   "metadata": {},
   "outputs": [],
   "source": []
  }
 ],
 "metadata": {
  "kernelspec": {
   "display_name": "Python 3 (ipykernel)",
   "language": "python",
   "name": "python3"
  },
  "language_info": {
   "codemirror_mode": {
    "name": "ipython",
    "version": 3
   },
   "file_extension": ".py",
   "mimetype": "text/x-python",
   "name": "python",
   "nbconvert_exporter": "python",
   "pygments_lexer": "ipython3",
   "version": "3.9.12"
  }
 },
 "nbformat": 4,
 "nbformat_minor": 5
}
