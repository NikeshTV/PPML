{
 "cells": [
  {
   "cell_type": "code",
   "execution_count": 1,
   "id": "c7238c6c",
   "metadata": {},
   "outputs": [
    {
     "name": "stdout",
     "output_type": "stream",
     "text": [
      "   OrderDate   Region       Rep    Item  Units  Unit Cost   Total\n",
      "0 2016-01-06     East     Jones  Pencil     95       1.99  189.05\n",
      "1 2016-01-23  Central    Kivell  Binder     50      19.99  999.50\n",
      "2 2016-02-09  Central   Jardine  Pencil     36       4.99  179.64\n",
      "3 2016-02-26  Central      Gill     Pen     27      19.99  539.73\n",
      "4 2016-03-15     West   Sorvino  Pencil     56       2.99  167.44\n",
      "5 2016-04-01     East     Jones  Binder     60       4.99  299.40\n",
      "6 2016-04-18  Central   Andrews  Pencil     75       1.99  149.25\n",
      "7 2016-05-05  Central   Jardine  Pencil     90       4.99  449.10\n",
      "8 2016-05-22     West  Thompson  Pencil     32       1.99   63.68\n"
     ]
    }
   ],
   "source": [
    "import pandas as pd\n",
    "pd.set_option('display.max_columns',10)\n",
    "df = pd.read_excel(\"C:/Users/Tcs/Downloads/SampleDocs-Sample Sales Data.xlsx\")\n",
    "print(df)"
   ]
  },
  {
   "cell_type": "code",
   "execution_count": 6,
   "id": "89504617",
   "metadata": {},
   "outputs": [
    {
     "name": "stdout",
     "output_type": "stream",
     "text": [
      "\n",
      "Replace value:\n",
      "   OrderDate   Region       Rep    Item  Units  Unit Cost   Total\n",
      "0 2016-01-06     East     Jones  Pencil     95       1.99  189.05\n",
      "1 2016-01-23  Central    Kivell  Binder     50      19.99  999.50\n",
      "2 2016-02-09  Central   Jardine  Pencil     36       4.99  179.64\n",
      "3 2016-02-26  Central      Gill     Pen     27      19.99  539.73\n",
      "4 2016-03-15     West   Sorvino  Pencil     56       2.99  167.44\n",
      "5 2016-04-01     East     Jones  Binder     60       4.99  299.40\n",
      "6 2016-04-18  Central   Andrews  Pencil     75       1.99  149.25\n",
      "7 2016-05-05  Central   Jardine  Pencil     90       4.99  449.10\n",
      "8 2016-05-22     West  Thompson  Pencil     32       1.99   63.68\n",
      "\n",
      "Updated list\n",
      "\n"
     ]
    }
   ],
   "source": [
    "f=df['Rep'].str.strip()\n",
    "f.to_excel(\"D:\\dcap.xlsx\")\n",
    "\n",
    "print(\"\\nReplace value:\")\n",
    "k=df.fillna(method='pad')\n",
    "print(k)\n",
    "print(\"\\nUpdated list\\n\")\n",
    "k.to_excel(\"D:\\dcap.xlsx\")"
   ]
  },
  {
   "cell_type": "code",
   "execution_count": 7,
   "id": "ab1adccc",
   "metadata": {},
   "outputs": [
    {
     "name": "stdout",
     "output_type": "stream",
     "text": [
      "\n",
      "Drop one particular column and its values:\n",
      "\n",
      "   OrderDate   Region       Rep  Units  Unit Cost   Total\n",
      "0 2016-01-06     East     Jones     95       1.99  189.05\n",
      "1 2016-01-23  Central    Kivell     50      19.99  999.50\n",
      "2 2016-02-09  Central   Jardine     36       4.99  179.64\n",
      "3 2016-02-26  Central      Gill     27      19.99  539.73\n",
      "4 2016-03-15     West   Sorvino     56       2.99  167.44\n",
      "5 2016-04-01     East     Jones     60       4.99  299.40\n",
      "6 2016-04-18  Central   Andrews     75       1.99  149.25\n",
      "7 2016-05-05  Central   Jardine     90       4.99  449.10\n",
      "8 2016-05-22     West  Thompson     32       1.99   63.68\n",
      "\n",
      "Updated list..\n",
      "\n"
     ]
    }
   ],
   "source": [
    "print(\"\\nDrop one particular column and its values:\\n\")\n",
    "k.drop(['Item'],axis=1,inplace=True)\n",
    "print(k)\n",
    "print(\"\\nUpdated list..\\n\")\n",
    "k.to_excel(\"D:\\dcap.xlsx\")"
   ]
  },
  {
   "cell_type": "code",
   "execution_count": 8,
   "id": "2d6c3a27",
   "metadata": {},
   "outputs": [
    {
     "name": "stdout",
     "output_type": "stream",
     "text": [
      "\n",
      "Drop NaN rows:\n",
      "\n",
      "   Unnamed: 0  OrderDate   Region       Rep  Units  Unit Cost   Total\n",
      "0           0 2016-01-06     East     Jones     95       1.99  189.05\n",
      "1           1 2016-01-23  Central    Kivell     50      19.99  999.50\n",
      "2           2 2016-02-09  Central   Jardine     36       4.99  179.64\n",
      "3           3 2016-02-26  Central      Gill     27      19.99  539.73\n",
      "4           4 2016-03-15     West   Sorvino     56       2.99  167.44\n",
      "5           5 2016-04-01     East     Jones     60       4.99  299.40\n",
      "6           6 2016-04-18  Central   Andrews     75       1.99  149.25\n",
      "7           7 2016-05-05  Central   Jardine     90       4.99  449.10\n",
      "8           8 2016-05-22     West  Thompson     32       1.99   63.68\n",
      "   Unnamed: 0  OrderDate   Region       Rep  Units  Unit Cost   Total\n",
      "0           0 2016-01-06     East     Jones     95       1.99  189.05\n",
      "1           1 2016-01-23  Central    Kivell     50      19.99  999.50\n",
      "2           2 2016-02-09  Central   Jardine     36       4.99  179.64\n",
      "3           3 2016-02-26  Central      Gill     27      19.99  539.73\n",
      "4           4 2016-03-15     West   Sorvino     56       2.99  167.44\n",
      "5           5 2016-04-01     East     Jones     60       4.99  299.40\n",
      "6           6 2016-04-18  Central   Andrews     75       1.99  149.25\n",
      "7           7 2016-05-05  Central   Jardine     90       4.99  449.10\n",
      "8           8 2016-05-22     West  Thompson     32       1.99   63.68\n",
      "\n",
      "Updated data list:\n",
      "\n"
     ]
    }
   ],
   "source": [
    "print(\"\\nDrop NaN rows:\\n\")\n",
    "df=pd.read_excel(\"D:\\dcap.xlsx\")\n",
    "print(df)\n",
    "x=df.dropna()\n",
    "print(x)\n",
    "print(\"\\nUpdated data list:\\n\")\n",
    "x.to_excel(\"D:\\dcap.xlsx\")"
   ]
  },
  {
   "cell_type": "code",
   "execution_count": 9,
   "id": "fc3d4af6",
   "metadata": {},
   "outputs": [
    {
     "name": "stdout",
     "output_type": "stream",
     "text": [
      "\n",
      "Replace values:\n",
      "\n",
      "\n",
      "Original data:\n",
      "\n",
      "   Unnamed: 0.1  Unnamed: 0  OrderDate   Region       Rep  Units  Unit Cost  \\\n",
      "0             0           0 2016-01-06     East     Jones     95       1.99   \n",
      "1             1           1 2016-01-23  Central    Kivell     50      19.99   \n",
      "2             2           2 2016-02-09  Central   Jardine     36       4.99   \n",
      "3             3           3 2016-02-26  Central      Gill     27      19.99   \n",
      "4             4           4 2016-03-15     West   Sorvino     56       2.99   \n",
      "5             5           5 2016-04-01     East     Jones     60       4.99   \n",
      "6             6           6 2016-04-18  Central   Andrews     75       1.99   \n",
      "7             7           7 2016-05-05  Central   Jardine     90       4.99   \n",
      "8             8           8 2016-05-22     West  Thompson     32       1.99   \n",
      "\n",
      "    Total  \n",
      "0  189.05  \n",
      "1  999.50  \n",
      "2  179.64  \n",
      "3  539.73  \n",
      "4  167.44  \n",
      "5  299.40  \n",
      "6  149.25  \n",
      "7  449.10  \n",
      "8   63.68  \n",
      "\n",
      "Replaced dataset:\n",
      "\n",
      "   Unnamed: 0.1  Unnamed: 0  OrderDate   Region       Rep  Units  Unit Cost  \\\n",
      "0             0           0 2016-01-06     East     Jones     95       1.99   \n",
      "1             1           1 2016-01-23  Central    Kivell     50      19.99   \n",
      "2             2           2 2016-02-09  Central   Jardine     36       4.99   \n",
      "3             3           3 2016-02-26  Central      Gill     27      19.99   \n",
      "4             4           4 2016-03-15     West   Sorvino     56       2.99   \n",
      "5             5           5 2016-04-01     East     Jones     60       4.99   \n",
      "6             6           6 2016-04-18  Central   Andrews     75       1.99   \n",
      "7             7           7 2016-05-05  Central   Jardine     90       4.99   \n",
      "8             8           8 2016-05-22     West  Thompson     32       1.99   \n",
      "\n",
      "    Total  \n",
      "0  189.05  \n",
      "1  999.50  \n",
      "2  179.64  \n",
      "3  539.73  \n",
      "4  167.44  \n",
      "5  299.40  \n",
      "6  149.25  \n",
      "7  449.10  \n",
      "8   63.68  \n",
      "\n",
      "Updated dataset:\n",
      "\n"
     ]
    }
   ],
   "source": [
    "print(\"\\nReplace values:\\n\")\n",
    "n=pd.read_excel(\"D:\\dcap.xlsx\")\n",
    "print(\"\\nOriginal data:\\n\")\n",
    "print(n)\n",
    "y=n.replace({89:88})\n",
    "print(\"\\nReplaced dataset:\\n\")\n",
    "print(y)\n",
    "print(\"\\nUpdated dataset:\\n\")\n",
    "y.to_excel(\"D:\\dcap.xlsx\")"
   ]
  },
  {
   "cell_type": "code",
   "execution_count": 10,
   "id": "2251ff21",
   "metadata": {},
   "outputs": [
    {
     "name": "stdout",
     "output_type": "stream",
     "text": [
      "   Unnamed: 0.2  Unnamed: 0.1  Unnamed: 0  OrderDate   Region       Rep  \\\n",
      "0             0             0           0 2016-01-06     East     Jones   \n",
      "1             1             1           1 2016-01-23  Central    Kivell   \n",
      "2             2             2           2 2016-02-09  Central   Jardine   \n",
      "3             3             3           3 2016-02-26  Central      Gill   \n",
      "4             4             4           4 2016-03-15     West   Sorvino   \n",
      "5             5             5           5 2016-04-01     East     Jones   \n",
      "6             6             6           6 2016-04-18  Central   Andrews   \n",
      "7             7             7           7 2016-05-05  Central   Jardine   \n",
      "8             8             8           8 2016-05-22     West  Thompson   \n",
      "\n",
      "   Units  Unit Cost   Total  \n",
      "0     95       1.99  189.05  \n",
      "1     50      19.99  999.50  \n",
      "2     36       4.99  179.64  \n",
      "3     27      19.99  539.73  \n",
      "4     56       2.99  167.44  \n",
      "5     60       4.99  299.40  \n",
      "6     75       1.99  149.25  \n",
      "7     90       4.99  449.10  \n",
      "8     32       1.99   63.68  \n",
      "\n",
      "Extract using isin() function:\n",
      "\n",
      "Empty DataFrame\n",
      "Columns: [Unnamed: 0.2, Unnamed: 0.1, Unnamed: 0, OrderDate, Region, Rep, Units, Unit Cost, Total]\n",
      "Index: []\n"
     ]
    }
   ],
   "source": [
    "df=pd.read_excel(\"D:\\dcap.xlsx\")\n",
    "print(df)\n",
    "print(\"\\nExtract using isin() function:\\n\")\n",
    "new=df['Units'].isin([88])\n",
    "print(df[new])"
   ]
  },
  {
   "cell_type": "code",
   "execution_count": null,
   "id": "12ea9d79",
   "metadata": {},
   "outputs": [],
   "source": []
  }
 ],
 "metadata": {
  "kernelspec": {
   "display_name": "Python 3 (ipykernel)",
   "language": "python",
   "name": "python3"
  },
  "language_info": {
   "codemirror_mode": {
    "name": "ipython",
    "version": 3
   },
   "file_extension": ".py",
   "mimetype": "text/x-python",
   "name": "python",
   "nbconvert_exporter": "python",
   "pygments_lexer": "ipython3",
   "version": "3.9.12"
  }
 },
 "nbformat": 4,
 "nbformat_minor": 5
}
